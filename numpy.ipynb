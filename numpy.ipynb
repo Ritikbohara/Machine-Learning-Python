{
 "cells": [
  {
   "cell_type": "code",
   "execution_count": null,
   "id": "e3ecbd38-e37e-4018-a1c3-c21fe0361ebb",
   "metadata": {},
   "outputs": [],
   "source": [
    "import numpy as np\n"
   ]
  },
  {
   "cell_type": "code",
   "execution_count": 7,
   "id": "35912041-b53f-48cb-b3d5-bb3d9150e9d6",
   "metadata": {},
   "outputs": [
    {
     "name": "stdout",
     "output_type": "stream",
     "text": [
      "shape a:(6,)\n",
      "shape b:(3,)\n"
     ]
    }
   ],
   "source": [
    "a=np.array([4,6,7,8,9,10])\n",
    "b=np.array([2,4,8])\n",
    "print(\"shape a:{}\".format(a.shape))\n",
    "print(\"shape b:{}\".format(b.shape))\n"
   ]
  },
  {
   "cell_type": "code",
   "execution_count": 8,
   "id": "42985a3f-1e5c-4a16-b2c3-2818c377573c",
   "metadata": {},
   "outputs": [
    {
     "name": "stdout",
     "output_type": "stream",
     "text": [
      "ndim 1\n",
      "ndim 1\n"
     ]
    }
   ],
   "source": [
    "print(\"ndim {}\".format(a.ndim))\n",
    "print(\"ndim {}\".format(b.ndim))"
   ]
  },
  {
   "cell_type": "code",
   "execution_count": 10,
   "id": "6b11a89e-c06c-4d34-ab05-e3be9ea2f986",
   "metadata": {},
   "outputs": [
    {
     "name": "stdout",
     "output_type": "stream",
     "text": [
      "size 6\n",
      "size 3\n"
     ]
    }
   ],
   "source": [
    "print(\"size {}\".format(a.size))\n",
    "print(\"size {}\".format(b.size))\n"
   ]
  },
  {
   "cell_type": "code",
   "execution_count": 12,
   "id": "14f953df-1a8e-4a36-84da-d5dce8d4510a",
   "metadata": {},
   "outputs": [
    {
     "name": "stdout",
     "output_type": "stream",
     "text": [
      "dtype int32\n",
      "dtype int32\n"
     ]
    }
   ],
   "source": [
    "print(f\"dtype {a.dtype}\")\n",
    "print(f\"dtype {b.dtype}\")\n"
   ]
  },
  {
   "cell_type": "code",
   "execution_count": 15,
   "id": "1ddee135-2134-4bb3-85cb-14b348219009",
   "metadata": {},
   "outputs": [
    {
     "name": "stdout",
     "output_type": "stream",
     "text": [
      "itemsize4\n"
     ]
    }
   ],
   "source": [
    "print(f\"itemsize{a.itemsize}\")"
   ]
  },
  {
   "cell_type": "code",
   "execution_count": 16,
   "id": "226eafb3-1988-4e6a-b34d-620b2182ba41",
   "metadata": {},
   "outputs": [
    {
     "name": "stdout",
     "output_type": "stream",
     "text": [
      "data<memory at 0x000002752B33F280>\n"
     ]
    }
   ],
   "source": [
    "print(f\"data{a.data}\")"
   ]
  },
  {
   "cell_type": "code",
   "execution_count": 13,
   "id": "25b442ef-ab51-4da7-8a99-98603591919a",
   "metadata": {},
   "outputs": [
    {
     "data": {
      "text/plain": [
       "array([[ 9,  8, 11],\n",
       "       [ 8, 11,  4]])"
      ]
     },
     "execution_count": 13,
     "metadata": {},
     "output_type": "execute_result"
    }
   ],
   "source": [
    "x=np.array([[6,5,8],[6,9,2]])\n",
    "y=np.array([[3,3,3],[2,2,2]])\n",
    "np.add(x,y)"
   ]
  },
  {
   "cell_type": "code",
   "execution_count": 16,
   "id": "05a18079-03cc-44b8-8e28-006fba921ebf",
   "metadata": {},
   "outputs": [
    {
     "data": {
      "text/plain": [
       "array([[7, 7, 2, 7],\n",
       "       [1, 2, 5, 6]])"
      ]
     },
     "execution_count": 16,
     "metadata": {},
     "output_type": "execute_result"
    }
   ],
   "source": [
    "x1=np.array([[17,19,15,18],[5,9,16,20]])\n",
    "y1=np.array([[10,12,13,11],[4,7,11,14]])\n",
    "np.subtract(x1,y1)"
   ]
  },
  {
   "cell_type": "code",
   "execution_count": 17,
   "id": "1fe0efcd-0593-4210-b746-c9ad16c03d27",
   "metadata": {},
   "outputs": [
    {
     "data": {
      "text/plain": [
       "array([[7, 7, 2, 7],\n",
       "       [1, 2, 5, 6]])"
      ]
     },
     "execution_count": 17,
     "metadata": {},
     "output_type": "execute_result"
    }
   ],
   "source": [
    "x1=np.array([[17,19,15,18],[5,9,16,20]])\n",
    "y1=np.array([[10,12,13,11],[4,7,11,14]])\n",
    "np.mod(x1,y1)"
   ]
  },
  {
   "cell_type": "code",
   "execution_count": 21,
   "id": "8e5dd718-5067-4ebc-83c7-f2c01aca26a3",
   "metadata": {},
   "outputs": [
    {
     "data": {
      "text/plain": [
       "array([[170, 228, 195, 198],\n",
       "       [ 20,  63, 176, 280]])"
      ]
     },
     "execution_count": 21,
     "metadata": {},
     "output_type": "execute_result"
    }
   ],
   "source": [
    "x1=np.array([[17,19,15,18],[5,9,16,20]])\n",
    "y1=np.array([[10,12,13,11],[4,7,11,14]])\n",
    "np.multiply(x1,y1)"
   ]
  },
  {
   "cell_type": "code",
   "execution_count": 22,
   "id": "48147da4-a4d8-4beb-a777-476f25cf12a2",
   "metadata": {},
   "outputs": [
    {
     "data": {
      "text/plain": [
       "array([[1.7       , 1.58333333, 1.15384615, 1.63636364],\n",
       "       [1.25      , 1.28571429, 1.45454545, 1.42857143]])"
      ]
     },
     "execution_count": 22,
     "metadata": {},
     "output_type": "execute_result"
    }
   ],
   "source": [
    "x1=np.array([[17,19,15,18],[5,9,16,20]])\n",
    "y1=np.array([[10,12,13,11],[4,7,11,14]])\n",
    "np.divide(x1,y1)"
   ]
  },
  {
   "cell_type": "code",
   "execution_count": 25,
   "id": "b223d6f6-c659-4d32-945c-647b4ff1e3c2",
   "metadata": {},
   "outputs": [
    {
     "data": {
      "text/plain": [
       "array([[ 1654238625, -1987646927,  -642346289, -1480538112],\n",
       "       [        625,     4782969,           0, -1879048192]])"
      ]
     },
     "execution_count": 25,
     "metadata": {},
     "output_type": "execute_result"
    }
   ],
   "source": [
    "x1=np.array([[17,19,15,18],[5,9,16,20]])\n",
    "y1=np.array([[10,12,13,11],[4,7,11,14]])\n",
    "np.power(x1,y1)"
   ]
  },
  {
   "cell_type": "code",
   "execution_count": 26,
   "id": "4a482a2b-e42f-46a4-80e7-619da498b60c",
   "metadata": {},
   "outputs": [
    {
     "data": {
      "text/plain": [
       "array([[17, 19, 15, 18],\n",
       "       [ 5,  9, 16, 20]])"
      ]
     },
     "execution_count": 26,
     "metadata": {},
     "output_type": "execute_result"
    }
   ],
   "source": [
    "x1=np.array([[17,19,15,18],[5,9,16,20]])\n",
    "y1=np.array([[10,12,13,11],[4,7,11,14]])\n",
    "np.absolute(x1,y1)"
   ]
  },
  {
   "cell_type": "code",
   "execution_count": 12,
   "id": "d650880b-138b-4881-893f-ed83c0e4ea68",
   "metadata": {},
   "outputs": [
    {
     "name": "stdout",
     "output_type": "stream",
     "text": [
      "[[4 7 9]\n",
      " [2 5 8]]\n"
     ]
    }
   ],
   "source": [
    "import numpy as np\n",
    "a1=np.array([[4,7,9,5],[2,5,8,4]])\n",
    "a2=np.array([[1,1,1],[3,3,3]])\n",
    "sliced_arr=a1[:3,:3]\n",
    "print(sliced_arr)\n",
    "\n",
    "\n",
    "\n"
   ]
  },
  {
   "cell_type": "code",
   "execution_count": 15,
   "id": "ae1a05b3-cf36-491c-9ab7-e507e58bc7bc",
   "metadata": {},
   "outputs": [
    {
     "name": "stdout",
     "output_type": "stream",
     "text": [
      "[8 5]\n"
     ]
    }
   ],
   "source": [
    "index_arr=a1[[1,1],[2,1]]\n",
    "print(index_arr)"
   ]
  },
  {
   "cell_type": "code",
   "execution_count": 16,
   "id": "eea491f6-15f9-4dca-87e0-4ae2e18eb977",
   "metadata": {},
   "outputs": [
    {
     "name": "stdout",
     "output_type": "stream",
     "text": [
      "44\n"
     ]
    }
   ],
   "source": [
    "print(a1.sum())"
   ]
  },
  {
   "cell_type": "code",
   "execution_count": 20,
   "id": "7c24e2ca-e227-4ac4-9f3d-fb88ca41ba8d",
   "metadata": {},
   "outputs": [
    {
     "name": "stdout",
     "output_type": "stream",
     "text": [
      "224\n"
     ]
    }
   ],
   "source": [
    "arr=np.array([[45,86],[34,59]])\n",
    "print(arr.sum())"
   ]
  },
  {
   "cell_type": "code",
   "execution_count": 22,
   "id": "9eaf2687-0f49-444d-8646-b4d4c8e5ff63",
   "metadata": {},
   "outputs": [
    {
     "name": "stdout",
     "output_type": "stream",
     "text": [
      "[[6.70820393 9.2736185 ]\n",
      " [5.83095189 7.68114575]]\n"
     ]
    }
   ],
   "source": [
    "print(np.sqrt(arr))"
   ]
  },
  {
   "cell_type": "code",
   "execution_count": 24,
   "id": "a25c02d5-2e8b-4806-afb6-7a1a794f41a7",
   "metadata": {},
   "outputs": [
    {
     "name": "stdout",
     "output_type": "stream",
     "text": [
      "[[45 34]\n",
      " [86 59]]\n"
     ]
    }
   ],
   "source": [
    "print(arr.T)"
   ]
  },
  {
   "cell_type": "code",
   "execution_count": 29,
   "id": "3378b402-f46f-413a-9d20-30c6fc3b71d0",
   "metadata": {},
   "outputs": [
    {
     "name": "stdout",
     "output_type": "stream",
     "text": [
      "[[2905 2795]\n",
      " [2795 2905]]\n"
     ]
    }
   ],
   "source": [
    "\n",
    "r1=np.array([[23,34],[34,23]])\n",
    "r2=np.array([[45,55],[55,45]])\n",
    "matrix_multi=np.dot(r1,r2)\n",
    "print(matrix_multi)"
   ]
  },
  {
   "cell_type": "code",
   "execution_count": 30,
   "id": "7f6b8c6c-9181-47eb-92c6-6879c50f2168",
   "metadata": {},
   "outputs": [],
   "source": [
    "bool=np.array([[True,True],[False,True]])"
   ]
  },
  {
   "cell_type": "code",
   "execution_count": 34,
   "id": "7535c0a3-cf01-4858-86a0-84280801a72a",
   "metadata": {},
   "outputs": [
    {
     "name": "stdout",
     "output_type": "stream",
     "text": [
      "all() with axis none False\n"
     ]
    }
   ],
   "source": [
    "print(\"all() with axis none\",np.all(bool))"
   ]
  },
  {
   "cell_type": "code",
   "execution_count": 46,
   "id": "39db33f7-6477-4aac-b036-74d50347edd3",
   "metadata": {},
   "outputs": [
    {
     "name": "stdout",
     "output_type": "stream",
     "text": [
      "[0 1 2 3]\n",
      "[[0 1]\n",
      " [2 3]]\n"
     ]
    }
   ],
   "source": [
    "temp=np.arange(4)\n",
    "print(temp)\n",
    "re=temp.reshape(2,2)\n",
    "print(re)"
   ]
  },
  {
   "cell_type": "code",
   "execution_count": 47,
   "id": "25accc08-7203-4c9f-b9b7-8fbaf3f07bfc",
   "metadata": {},
   "outputs": [
    {
     "name": "stdout",
     "output_type": "stream",
     "text": [
      "vstack: [[15 32]\n",
      " [26 34]\n",
      " [59 62]\n",
      " [87 98]\n",
      " [38 49]\n",
      " [45 56]]\n",
      "hstack: [[15 32 59 62 38 49]\n",
      " [26 34 87 98 45 56]]\n"
     ]
    }
   ],
   "source": [
    "x=np.array([[15,32],[26,34]])\n",
    "y=np.array([[59,62],[87,98]])\n",
    "z=np.array([[38,49],[45,56]])\n",
    "v=np.vstack((x,y,z))\n",
    "h=np.hstack((x,y,z))\n",
    "print(\"vstack:\",v)\n",
    "print(\"hstack:\",h)"
   ]
  },
  {
   "cell_type": "code",
   "execution_count": 52,
   "id": "8074d496-a5f9-492c-af65-59a283d1c49d",
   "metadata": {},
   "outputs": [
    {
     "name": "stdout",
     "output_type": "stream",
     "text": [
      "hsplit: [array([[15, 32],\n",
      "       [26, 34]]), array([[59, 62],\n",
      "       [87, 98]]), array([[38, 49],\n",
      "       [45, 56]])]\n"
     ]
    }
   ],
   "source": [
    "h_split=np.hsplit(h,3)\n",
    "print(\"hsplit:\",h_split)"
   ]
  },
  {
   "cell_type": "code",
   "execution_count": 55,
   "id": "ea539a12-9603-4afc-8a27-ee71faf9b8f4",
   "metadata": {},
   "outputs": [
    {
     "name": "stdout",
     "output_type": "stream",
     "text": [
      "vsplit: [array([[15, 32, 59, 62, 38, 49]]), array([[26, 34, 87, 98, 45, 56]])]\n"
     ]
    }
   ],
   "source": [
    "v_split=np.vsplit(h,2)\n",
    "print(\"vsplit:\",v_split)"
   ]
  },
  {
   "cell_type": "code",
   "execution_count": 56,
   "id": "c23cc5d0-60fd-44d1-ac0e-fc9a6b28f866",
   "metadata": {},
   "outputs": [
    {
     "name": "stdout",
     "output_type": "stream",
     "text": [
      "random:[0.68370572 0.98592278 0.65831193 0.98685511 0.37467806 0.00474906\n",
      " 0.46337627 0.80187069 0.79370409 0.38129644 0.97527178 0.84783418\n",
      " 0.21341882 0.60457529 0.16761078 0.93624923 0.69283642 0.86448481\n",
      " 0.23929711 0.06283406]\n",
      "\n"
     ]
    }
   ],
   "source": [
    "print(\"random:{}\\n\".format(np.random.random(20)))"
   ]
  },
  {
   "cell_type": "code",
   "execution_count": 58,
   "id": "3ae536e0-6d76-4cd8-a4ad-94033d185940",
   "metadata": {},
   "outputs": [
    {
     "name": "stdout",
     "output_type": "stream",
     "text": [
      "rand:[[0.80697067 0.09314378 0.78604295 0.10129473]\n",
      " [0.24867425 0.99859342 0.27022235 0.85340112]\n",
      " [0.33498556 0.12158593 0.44353637 0.86761664]]\n",
      "\n"
     ]
    }
   ],
   "source": [
    "print(\"rand:{}\\n\".format(np.random.rand(3,4)))"
   ]
  },
  {
   "cell_type": "code",
   "execution_count": null,
   "id": "05a7ebed-a1ad-4b74-a864-07dd08b83ecc",
   "metadata": {},
   "outputs": [],
   "source": []
  }
 ],
 "metadata": {
  "kernelspec": {
   "display_name": "Python 3 (ipykernel)",
   "language": "python",
   "name": "python3"
  },
  "language_info": {
   "codemirror_mode": {
    "name": "ipython",
    "version": 3
   },
   "file_extension": ".py",
   "mimetype": "text/x-python",
   "name": "python",
   "nbconvert_exporter": "python",
   "pygments_lexer": "ipython3",
   "version": "3.11.4"
  }
 },
 "nbformat": 4,
 "nbformat_minor": 5
}
