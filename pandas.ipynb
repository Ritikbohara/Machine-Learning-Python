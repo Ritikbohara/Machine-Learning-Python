{
 "cells": [
  {
   "cell_type": "code",
   "execution_count": 4,
   "id": "1cdd9efc-6695-4e8b-a936-e4406d66ec40",
   "metadata": {},
   "outputs": [],
   "source": [
    "import pandas as rits\n"
   ]
  },
  {
   "cell_type": "code",
   "execution_count": 6,
   "id": "22829a49-1076-4367-a764-69ee1c2184e2",
   "metadata": {},
   "outputs": [
    {
     "name": "stdout",
     "output_type": "stream",
     "text": [
      "  student Subject  Marks\n",
      "0   Ritik     Daa     40\n",
      "1  Rajesh      Ws     38\n",
      "2  Aayush      Cs     50\n",
      "3  Parmod    Aiml     30\n"
     ]
    }
   ],
   "source": [
    "dataset={'student':['Ritik','Rajesh','Aayush','Parmod'],'Subject':['Daa','Ws','Cs','Aiml'],'Marks':[40,38,50,30]}\n",
    "demo = rits.DataFrame(dataset)\n",
    "print(demo)\n"
   ]
  },
  {
   "cell_type": "code",
   "execution_count": 8,
   "id": "a400b116-2437-41d5-a3f3-cbd24d7fbe7a",
   "metadata": {},
   "outputs": [
    {
     "name": "stdout",
     "output_type": "stream",
     "text": [
      "2.1.0\n"
     ]
    }
   ],
   "source": [
    "print(rits.__version__)"
   ]
  },
  {
   "cell_type": "code",
   "execution_count": 18,
   "id": "410bfb85-9c67-4970-85c2-9ccc807bd879",
   "metadata": {},
   "outputs": [
    {
     "name": "stdout",
     "output_type": "stream",
     "text": [
      "0    40\n",
      "1    56\n",
      "2    98\n",
      "3    21\n",
      "dtype: int64\n"
     ]
    }
   ],
   "source": [
    "r=[40,56,98,21]\n",
    "demo=rits.Series(r)\n",
    "print(demo)"
   ]
  },
  {
   "cell_type": "code",
   "execution_count": 19,
   "id": "1c00818f-882a-49e6-8c50-dd0f8ffbf4e2",
   "metadata": {},
   "outputs": [
    {
     "name": "stdout",
     "output_type": "stream",
     "text": [
      "a1    40\n",
      "a2    56\n",
      "a3    98\n",
      "a4    21\n",
      "dtype: int64\n"
     ]
    }
   ],
   "source": [
    "demo=rits.Series(r,index=['a1','a2','a3','a4'])\n",
    "print(demo)"
   ]
  },
  {
   "cell_type": "code",
   "execution_count": 21,
   "id": "3eeeef8b-c5e1-469b-a836-9e779e248393",
   "metadata": {},
   "outputs": [
    {
     "name": "stdout",
     "output_type": "stream",
     "text": [
      "DAA    440\n",
      "WS     220\n",
      "CS     300\n",
      "dtype: int64\n"
     ]
    }
   ],
   "source": [
    "marks={\"DAA\":440,\"WS\":220,\"CS\":300}\n",
    "demo2=rits.Series(marks)\n",
    "print(demo2)\n",
    "\n"
   ]
  },
  {
   "cell_type": "code",
   "execution_count": 25,
   "id": "c8caaba4-2a48-43ed-9e76-65056ef8e924",
   "metadata": {},
   "outputs": [
    {
     "name": "stdout",
     "output_type": "stream",
     "text": [
      "DAA    440\n",
      "CS     300\n",
      "dtype: int64\n"
     ]
    }
   ],
   "source": [
    "demo2=rits.Series(marks,index=[\"DAA\",\"CS\"])\n",
    "print(demo2)"
   ]
  },
  {
   "cell_type": "code",
   "execution_count": 26,
   "id": "8134d62f-c059-4a22-b21f-c2b5d2cf798b",
   "metadata": {},
   "outputs": [
    {
     "name": "stdout",
     "output_type": "stream",
     "text": [
      "  product  price\n",
      "0   shoes    700\n",
      "1   watch   1500\n",
      "2   phone  20000\n",
      "3   cover    150\n"
     ]
    }
   ],
   "source": [
    "Data= {'product':['shoes','watch','phone','cover'],'price':[700,1500,20000,150]}\n",
    "hp = rits.DataFrame(Data)\n",
    "print(hp)"
   ]
  },
  {
   "cell_type": "code",
   "execution_count": 27,
   "id": "3bc8948f-82a6-40c6-890d-98de0fcf1539",
   "metadata": {},
   "outputs": [
    {
     "name": "stdout",
     "output_type": "stream",
     "text": [
      "product    shoes\n",
      "price        700\n",
      "Name: 0, dtype: object\n"
     ]
    }
   ],
   "source": [
    "print(hp.loc[0])"
   ]
  },
  {
   "cell_type": "code",
   "execution_count": 28,
   "id": "85db4f18-13ca-4ca3-b186-4d69998173e7",
   "metadata": {},
   "outputs": [
    {
     "name": "stdout",
     "output_type": "stream",
     "text": [
      "product    cover\n",
      "price        150\n",
      "Name: 3, dtype: object\n"
     ]
    }
   ],
   "source": [
    "print(hp.loc[3])"
   ]
  },
  {
   "cell_type": "code",
   "execution_count": 10,
   "id": "e04b6316-86b0-43f7-a14a-620a230bc594",
   "metadata": {},
   "outputs": [],
   "source": [
    "import  pandas as rits\n",
    "\n",
    "rt=rits.read_excel(\"stud_excel.xlsx\")\n",
    "\n",
    "\n",
    "                       \n",
    "\n",
    "\n",
    "\n"
   ]
  },
  {
   "cell_type": "code",
   "execution_count": 11,
   "id": "147a1f9d-f43c-411a-9660-18aa71d187c9",
   "metadata": {},
   "outputs": [
    {
     "name": "stdout",
     "output_type": "stream",
     "text": [
      "   Sr.No    Name  Total Marks  Obtained Marks  Percentage Grade\n",
      "0      1  Aayush          500             420        0.84     A\n",
      "1      2   Aryan          500             300        0.60     B\n",
      "2      3    Dhey          500             450        0.90     A\n",
      "3      4  Aadity          500             460        0.92    A+\n",
      "4      5   Ritik          500             310        0.62     B\n",
      "5      6  Himesh          500             350        0.70     B\n",
      "6      7  Sachin          500             250        0.50     D\n",
      "7      8   Lalit          500             280        0.56     C\n",
      "8      9  Hitesh          500             230        0.46     D\n",
      "9     10  Rakesh          500             290        0.58     C\n"
     ]
    }
   ],
   "source": [
    "print(rt)\n"
   ]
  },
  {
   "cell_type": "code",
   "execution_count": 17,
   "id": "1db8475a-b0ab-4c43-b9ca-593d4f197b80",
   "metadata": {},
   "outputs": [
    {
     "name": "stdout",
     "output_type": "stream",
     "text": [
      "60\n"
     ]
    }
   ],
   "source": [
    "print(rits.options.display.max_rows)"
   ]
  },
  {
   "cell_type": "code",
   "execution_count": 18,
   "id": "f49ec148-e527-44ca-ad99-793e5d23b084",
   "metadata": {},
   "outputs": [
    {
     "name": "stdout",
     "output_type": "stream",
     "text": [
      "10\n"
     ]
    }
   ],
   "source": [
    "print(rits.options.display.min_rows)\n"
   ]
  },
  {
   "cell_type": "code",
   "execution_count": 19,
   "id": "0c9a8b65-b4c6-4234-8b17-7a4061e8102f",
   "metadata": {},
   "outputs": [
    {
     "name": "stdout",
     "output_type": "stream",
     "text": [
      "   Sr.No    Name  Total Marks  Obtained Marks  Percentage Grade\n",
      "0      1  Aayush          500             420        0.84     A\n",
      "1      2   Aryan          500             300        0.60     B\n",
      "2      3    Dhey          500             450        0.90     A\n",
      "3      4  Aadity          500             460        0.92    A+\n",
      "4      5   Ritik          500             310        0.62     B\n",
      "5      6  Himesh          500             350        0.70     B\n",
      "6      7  Sachin          500             250        0.50     D\n",
      "7      8   Lalit          500             280        0.56     C\n",
      "8      9  Hitesh          500             230        0.46     D\n",
      "9     10  Rakesh          500             290        0.58     C\n"
     ]
    }
   ],
   "source": [
    "print(rt)"
   ]
  },
  {
   "cell_type": "code",
   "execution_count": 21,
   "id": "ac926c52-c8f9-4049-8436-5d3340f5e56c",
   "metadata": {},
   "outputs": [
    {
     "name": "stdout",
     "output_type": "stream",
     "text": [
      "   Sr.No    Name  Total Marks  Obtained Marks  Percentage Grade\n",
      "0      1  Aayush          500             420        0.84     A\n",
      "1      2   Aryan          500             300        0.60     B\n",
      "2      3    Dhey          500             450        0.90     A\n",
      "3      4  Aadity          500             460        0.92    A+\n",
      "4      5   Ritik          500             310        0.62     B\n",
      "5      6  Himesh          500             350        0.70     B\n",
      "6      7  Sachin          500             250        0.50     D\n",
      "7      8   Lalit          500             280        0.56     C\n",
      "8      9  Hitesh          500             230        0.46     D\n",
      "9     10  Rakesh          500             290        0.58     C\n"
     ]
    }
   ],
   "source": [
    "stud=rits.read_excel(\"stud_excel.xlsx\")\n",
    "print(stud)"
   ]
  },
  {
   "cell_type": "code",
   "execution_count": 22,
   "id": "e19d0069-bd39-4bce-a591-266677e391a2",
   "metadata": {},
   "outputs": [
    {
     "name": "stdout",
     "output_type": "stream",
     "text": [
      "   Sr.No    Name  Total Marks  Obtained Marks  Percentage Grade\n",
      "0      1  Aayush          500             420        0.84     A\n",
      "1      2   Aryan          500             300        0.60     B\n",
      "2      3    Dhey          500             450        0.90     A\n",
      "3      4  Aadity          500             460        0.92    A+\n",
      "4      5   Ritik          500             310        0.62     B\n"
     ]
    }
   ],
   "source": [
    "print(stud.head())"
   ]
  },
  {
   "cell_type": "code",
   "execution_count": 23,
   "id": "67fc219e-d6bd-43b2-9b53-ed91c17cea37",
   "metadata": {},
   "outputs": [
    {
     "name": "stdout",
     "output_type": "stream",
     "text": [
      "   Sr.No    Name  Total Marks  Obtained Marks  Percentage Grade\n",
      "5      6  Himesh          500             350        0.70     B\n",
      "6      7  Sachin          500             250        0.50     D\n",
      "7      8   Lalit          500             280        0.56     C\n",
      "8      9  Hitesh          500             230        0.46     D\n",
      "9     10  Rakesh          500             290        0.58     C\n"
     ]
    }
   ],
   "source": [
    "print(stud.tail())"
   ]
  },
  {
   "cell_type": "code",
   "execution_count": 24,
   "id": "1327ff51-d68a-4ae4-b623-aa59cd96e68f",
   "metadata": {},
   "outputs": [
    {
     "name": "stdout",
     "output_type": "stream",
     "text": [
      "<class 'pandas.core.frame.DataFrame'>\n",
      "RangeIndex: 10 entries, 0 to 9\n",
      "Data columns (total 6 columns):\n",
      " #   Column          Non-Null Count  Dtype  \n",
      "---  ------          --------------  -----  \n",
      " 0   Sr.No           10 non-null     int64  \n",
      " 1   Name            10 non-null     object \n",
      " 2   Total Marks     10 non-null     int64  \n",
      " 3   Obtained Marks  10 non-null     int64  \n",
      " 4   Percentage      10 non-null     float64\n",
      " 5   Grade           10 non-null     object \n",
      "dtypes: float64(1), int64(3), object(2)\n",
      "memory usage: 612.0+ bytes\n",
      "None\n"
     ]
    }
   ],
   "source": [
    "print(stud.info())"
   ]
  },
  {
   "cell_type": "code",
   "execution_count": 27,
   "id": "0744b896-a0bb-4085-9f95-3609627af624",
   "metadata": {},
   "outputs": [
    {
     "name": "stdout",
     "output_type": "stream",
     "text": [
      "   Sr.No    Name  Total Marks  Obtained Marks  Percentage Grade\n",
      "0      1  Aayush          500             420        0.84     A\n",
      "1      2   Aryan          500             300        0.60     B\n",
      "2      3    Dhey          500             450        0.90     A\n",
      "3      4  Aadity          500             460        0.92    A+\n",
      "4      5   Ritik          500             310        0.62     B\n",
      "5      6  Himesh          500             350        0.70     B\n",
      "6      7  Sachin          500             250        0.50     D\n",
      "7      8   Lalit          500             280        0.56     C\n",
      "8      9  Hitesh          500             230        0.46     D\n",
      "9     10  Rakesh          500             290        0.58     C\n"
     ]
    }
   ],
   "source": [
    "new_stud=stud.dropna()\n",
    "print(new_stud)"
   ]
  },
  {
   "cell_type": "code",
   "execution_count": 30,
   "id": "5fdc9894-2078-4702-88c0-7e288a639889",
   "metadata": {},
   "outputs": [
    {
     "name": "stdout",
     "output_type": "stream",
     "text": [
      "   Sr.No    Name  Total Marks  Obtained Marks  Percentage Grade\n",
      "0      1  Aayush          500             420        0.84     A\n",
      "1      2   Aryan          500             300        0.60     B\n",
      "2      3    Dhey          500             450        0.90     A\n",
      "3      4  Aadity          500             460        0.92    A+\n",
      "4      5   Ritik          500             310        0.62     B\n",
      "5      6  Himesh          500             350        0.70     B\n",
      "6      7  Sachin          500             250        0.50     D\n",
      "7      8   Lalit          500             280        0.56     C\n",
      "8      9  Hitesh          500             230        0.46     D\n",
      "9     10  Rakesh          500             290        0.58     C\n"
     ]
    }
   ],
   "source": [
    "print(stud)"
   ]
  },
  {
   "cell_type": "code",
   "execution_count": 32,
   "id": "f069d7eb-b06e-4d68-aa51-7691cd193e62",
   "metadata": {},
   "outputs": [
    {
     "name": "stdout",
     "output_type": "stream",
     "text": [
      "   Sr.No    Name  Total Marks  Obtained Marks  Percentage Grade\n",
      "0      1  Aayush          500             420        0.84     A\n",
      "1      2   Aryan          500             300        0.60     B\n",
      "2      3    Dhey          500             450        0.90     A\n",
      "3      4  Aadity          500             460        0.92    A+\n",
      "4      5   Ritik          500             310        0.62     B\n",
      "5      6  Himesh          500             350        0.70     B\n",
      "6      7  Sachin          500             250        0.50     D\n",
      "7      8   Lalit          500             280        0.56     C\n",
      "8      9  Hitesh          500             230        0.46     D\n",
      "9     10  Rakesh          500             290        0.58     C\n"
     ]
    }
   ],
   "source": [
    "fill_stud=stud.fillna(11)\n",
    "print(fill_stud)"
   ]
  },
  {
   "cell_type": "code",
   "execution_count": 5,
   "id": "776aa184-e024-460e-a014-719d3b17684e",
   "metadata": {},
   "outputs": [],
   "source": [
    "stud=rits.read_excel(\"stud_excel.xlsx\")"
   ]
  },
  {
   "cell_type": "code",
   "execution_count": 6,
   "id": "eadfd606-9391-4455-b7a0-3a2150a75e29",
   "metadata": {},
   "outputs": [
    {
     "name": "stdout",
     "output_type": "stream",
     "text": [
      "    Sr.No    Name  Total Marks  Obtained Marks  Percentage Grade\n",
      "0       1  Aayush          500             420         NaN     A\n",
      "1       2   Aryan          500             300         NaN     B\n",
      "2       3    Dhey          500             450         NaN     A\n",
      "3       4  Aadity          500             460         NaN    A+\n",
      "4       5   Ritik          500             310         NaN     B\n",
      "5       6  Himesh          500             350        0.70     B\n",
      "6       7  Sachin          500             250        0.50     D\n",
      "7       8   Lalit          500             280        0.56     C\n",
      "8       9  Hitesh          500             230        0.46     D\n",
      "9      10  Rakesh          500             290        0.58     C\n",
      "10     11   jeetu          700             500        0.99   NaN\n",
      "11     12     NaN          700             588        0.98   NaN\n"
     ]
    }
   ],
   "source": [
    "print(stud)"
   ]
  },
  {
   "cell_type": "code",
   "execution_count": 7,
   "id": "bd56f0e2-0686-436d-b5df-6e8299fa8899",
   "metadata": {},
   "outputs": [
    {
     "name": "stdout",
     "output_type": "stream",
     "text": [
      "    Sr.No    Name  Total Marks  Obtained Marks  Percentage Grade\n",
      "0       1  Aayush          500             420      555.00     A\n",
      "1       2   Aryan          500             300      555.00     B\n",
      "2       3    Dhey          500             450      555.00     A\n",
      "3       4  Aadity          500             460      555.00    A+\n",
      "4       5   Ritik          500             310      555.00     B\n",
      "5       6  Himesh          500             350        0.70     B\n",
      "6       7  Sachin          500             250        0.50     D\n",
      "7       8   Lalit          500             280        0.56     C\n",
      "8       9  Hitesh          500             230        0.46     D\n",
      "9      10  Rakesh          500             290        0.58     C\n",
      "10     11   jeetu          700             500        0.99   555\n",
      "11     12     555          700             588        0.98   555\n"
     ]
    }
   ],
   "source": [
    "fill_stud=stud.fillna(555)\n",
    "print(fill_stud)"
   ]
  },
  {
   "cell_type": "code",
   "execution_count": 8,
   "id": "01f55234-594d-4bbb-a25e-3dde61c969ab",
   "metadata": {},
   "outputs": [
    {
     "name": "stdout",
     "output_type": "stream",
     "text": [
      "0     Aayush\n",
      "1      Aryan\n",
      "2       Dhey\n",
      "3     Aadity\n",
      "4      Ritik\n",
      "5     Himesh\n",
      "6     Sachin\n",
      "7      Lalit\n",
      "8     Hitesh\n",
      "9     Rakesh\n",
      "10     jeetu\n",
      "11       111\n",
      "Name: Name, dtype: object\n"
     ]
    }
   ],
   "source": [
    "Mr= stud[\"Name\"].fillna(111)\n",
    "print(Mr)\n"
   ]
  },
  {
   "cell_type": "code",
   "execution_count": 9,
   "id": "bad1c6ad-6f52-4580-bee9-d0a74a666272",
   "metadata": {},
   "outputs": [
    {
     "name": "stdout",
     "output_type": "stream",
     "text": [
      "369.0\n",
      "median:330.0\n",
      "mode:0     230\n",
      "1     250\n",
      "2     280\n",
      "3     290\n",
      "4     300\n",
      "5     310\n",
      "6     350\n",
      "7     420\n",
      "8     450\n",
      "9     460\n",
      "10    500\n",
      "11    588\n",
      "Name: Obtained Marks, dtype: int64\n"
     ]
    }
   ],
   "source": [
    "mean=stud[\"Obtained Marks\"].mean()\n",
    "print(mean)\n",
    "median=stud[\"Obtained Marks\"].median()\n",
    "print(f\"median:{median}\")\n",
    "mode=stud[\"Obtained Marks\"].mode()\n",
    "print(f\"mode:{mode}\")"
   ]
  },
  {
   "cell_type": "code",
   "execution_count": 11,
   "id": "723a3953-31cc-4c46-aa91-e75d3a0bee9f",
   "metadata": {},
   "outputs": [
    {
     "data": {
      "text/plain": [
       "Index(['Sr.No', 'Name', 'Total Marks', 'Obtained Marks', 'Percentage',\n",
       "       'Grade'],\n",
       "      dtype='object')"
      ]
     },
     "execution_count": 11,
     "metadata": {},
     "output_type": "execute_result"
    }
   ],
   "source": [
    "stud.columns"
   ]
  },
  {
   "cell_type": "raw",
   "id": "e7831eb0-2302-4ac1-a151-95f0863b6c29",
   "metadata": {},
   "source": [
    "\n"
   ]
  },
  {
   "cell_type": "raw",
   "id": "3681b955-dd80-4aa0-8ad8-a7cea15e8f25",
   "metadata": {},
   "source": []
  },
  {
   "cell_type": "code",
   "execution_count": 12,
   "id": "d227752a-944a-42b0-a0b8-d140b010abd2",
   "metadata": {},
   "outputs": [
    {
     "name": "stdout",
     "output_type": "stream",
     "text": [
      "   Sr.No    Name  Total Marks  Obtained Marks  Percentage Grade\n",
      "0      1  Aayush          500             420         NaN     A\n",
      "1      2   Aryan          500             300         NaN     B\n",
      "2      3    Dhey          500             450         NaN     A\n",
      "3      4  Aadity          500             460         NaN    A+\n",
      "4      5   Ritik          500             310         NaN     B\n"
     ]
    }
   ],
   "source": [
    "print(stud.loc[0:4])"
   ]
  },
  {
   "cell_type": "code",
   "execution_count": 13,
   "id": "26bf434e-c9ed-4d14-a0d2-0464a78c2d92",
   "metadata": {},
   "outputs": [
    {
     "name": "stdout",
     "output_type": "stream",
     "text": [
      "Sr.No                  4\n",
      "Name              Aadity\n",
      "Total Marks          500\n",
      "Obtained Marks       460\n",
      "Percentage           NaN\n",
      "Grade                 A+\n",
      "Name: 3, dtype: object\n"
     ]
    }
   ],
   "source": [
    "print(stud.loc[3])"
   ]
  },
  {
   "cell_type": "code",
   "execution_count": 14,
   "id": "88a566ab-34f0-4b41-9df6-5f24055b73e0",
   "metadata": {},
   "outputs": [
    {
     "data": {
      "text/html": [
       "<div>\n",
       "<style scoped>\n",
       "    .dataframe tbody tr th:only-of-type {\n",
       "        vertical-align: middle;\n",
       "    }\n",
       "\n",
       "    .dataframe tbody tr th {\n",
       "        vertical-align: top;\n",
       "    }\n",
       "\n",
       "    .dataframe thead th {\n",
       "        text-align: right;\n",
       "    }\n",
       "</style>\n",
       "<table border=\"1\" class=\"dataframe\">\n",
       "  <thead>\n",
       "    <tr style=\"text-align: right;\">\n",
       "      <th></th>\n",
       "      <th>Sr.No</th>\n",
       "      <th>Name</th>\n",
       "      <th>Total Marks</th>\n",
       "      <th>Obtained Marks</th>\n",
       "      <th>Percentage</th>\n",
       "      <th>Grade</th>\n",
       "    </tr>\n",
       "  </thead>\n",
       "  <tbody>\n",
       "    <tr>\n",
       "      <th>11</th>\n",
       "      <td>12</td>\n",
       "      <td>NaN</td>\n",
       "      <td>700</td>\n",
       "      <td>588</td>\n",
       "      <td>0.98</td>\n",
       "      <td>NaN</td>\n",
       "    </tr>\n",
       "    <tr>\n",
       "      <th>10</th>\n",
       "      <td>11</td>\n",
       "      <td>jeetu</td>\n",
       "      <td>700</td>\n",
       "      <td>500</td>\n",
       "      <td>0.99</td>\n",
       "      <td>NaN</td>\n",
       "    </tr>\n",
       "    <tr>\n",
       "      <th>3</th>\n",
       "      <td>4</td>\n",
       "      <td>Aadity</td>\n",
       "      <td>500</td>\n",
       "      <td>460</td>\n",
       "      <td>NaN</td>\n",
       "      <td>A+</td>\n",
       "    </tr>\n",
       "    <tr>\n",
       "      <th>2</th>\n",
       "      <td>3</td>\n",
       "      <td>Dhey</td>\n",
       "      <td>500</td>\n",
       "      <td>450</td>\n",
       "      <td>NaN</td>\n",
       "      <td>A</td>\n",
       "    </tr>\n",
       "    <tr>\n",
       "      <th>0</th>\n",
       "      <td>1</td>\n",
       "      <td>Aayush</td>\n",
       "      <td>500</td>\n",
       "      <td>420</td>\n",
       "      <td>NaN</td>\n",
       "      <td>A</td>\n",
       "    </tr>\n",
       "    <tr>\n",
       "      <th>5</th>\n",
       "      <td>6</td>\n",
       "      <td>Himesh</td>\n",
       "      <td>500</td>\n",
       "      <td>350</td>\n",
       "      <td>0.70</td>\n",
       "      <td>B</td>\n",
       "    </tr>\n",
       "    <tr>\n",
       "      <th>4</th>\n",
       "      <td>5</td>\n",
       "      <td>Ritik</td>\n",
       "      <td>500</td>\n",
       "      <td>310</td>\n",
       "      <td>NaN</td>\n",
       "      <td>B</td>\n",
       "    </tr>\n",
       "    <tr>\n",
       "      <th>1</th>\n",
       "      <td>2</td>\n",
       "      <td>Aryan</td>\n",
       "      <td>500</td>\n",
       "      <td>300</td>\n",
       "      <td>NaN</td>\n",
       "      <td>B</td>\n",
       "    </tr>\n",
       "    <tr>\n",
       "      <th>9</th>\n",
       "      <td>10</td>\n",
       "      <td>Rakesh</td>\n",
       "      <td>500</td>\n",
       "      <td>290</td>\n",
       "      <td>0.58</td>\n",
       "      <td>C</td>\n",
       "    </tr>\n",
       "    <tr>\n",
       "      <th>7</th>\n",
       "      <td>8</td>\n",
       "      <td>Lalit</td>\n",
       "      <td>500</td>\n",
       "      <td>280</td>\n",
       "      <td>0.56</td>\n",
       "      <td>C</td>\n",
       "    </tr>\n",
       "    <tr>\n",
       "      <th>6</th>\n",
       "      <td>7</td>\n",
       "      <td>Sachin</td>\n",
       "      <td>500</td>\n",
       "      <td>250</td>\n",
       "      <td>0.50</td>\n",
       "      <td>D</td>\n",
       "    </tr>\n",
       "    <tr>\n",
       "      <th>8</th>\n",
       "      <td>9</td>\n",
       "      <td>Hitesh</td>\n",
       "      <td>500</td>\n",
       "      <td>230</td>\n",
       "      <td>0.46</td>\n",
       "      <td>D</td>\n",
       "    </tr>\n",
       "  </tbody>\n",
       "</table>\n",
       "</div>"
      ],
      "text/plain": [
       "    Sr.No    Name  Total Marks  Obtained Marks  Percentage Grade\n",
       "11     12     NaN          700             588        0.98   NaN\n",
       "10     11   jeetu          700             500        0.99   NaN\n",
       "3       4  Aadity          500             460         NaN    A+\n",
       "2       3    Dhey          500             450         NaN     A\n",
       "0       1  Aayush          500             420         NaN     A\n",
       "5       6  Himesh          500             350        0.70     B\n",
       "4       5   Ritik          500             310         NaN     B\n",
       "1       2   Aryan          500             300         NaN     B\n",
       "9      10  Rakesh          500             290        0.58     C\n",
       "7       8   Lalit          500             280        0.56     C\n",
       "6       7  Sachin          500             250        0.50     D\n",
       "8       9  Hitesh          500             230        0.46     D"
      ]
     },
     "execution_count": 14,
     "metadata": {},
     "output_type": "execute_result"
    }
   ],
   "source": [
    "stud.sort_values(['Obtained Marks'],ascending=0)\n"
   ]
  },
  {
   "cell_type": "code",
   "execution_count": 15,
   "id": "f69e8c3f-2037-478e-8ff3-2a081ed80a1c",
   "metadata": {},
   "outputs": [
    {
     "data": {
      "text/html": [
       "<div>\n",
       "<style scoped>\n",
       "    .dataframe tbody tr th:only-of-type {\n",
       "        vertical-align: middle;\n",
       "    }\n",
       "\n",
       "    .dataframe tbody tr th {\n",
       "        vertical-align: top;\n",
       "    }\n",
       "\n",
       "    .dataframe thead th {\n",
       "        text-align: right;\n",
       "    }\n",
       "</style>\n",
       "<table border=\"1\" class=\"dataframe\">\n",
       "  <thead>\n",
       "    <tr style=\"text-align: right;\">\n",
       "      <th></th>\n",
       "      <th>Sr.No</th>\n",
       "      <th>Name</th>\n",
       "      <th>Total Marks</th>\n",
       "      <th>Obtained Marks</th>\n",
       "      <th>Percentage</th>\n",
       "      <th>Grade</th>\n",
       "      <th>percentage</th>\n",
       "    </tr>\n",
       "  </thead>\n",
       "  <tbody>\n",
       "    <tr>\n",
       "      <th>0</th>\n",
       "      <td>1</td>\n",
       "      <td>Aayush</td>\n",
       "      <td>500</td>\n",
       "      <td>420</td>\n",
       "      <td>NaN</td>\n",
       "      <td>A</td>\n",
       "      <td>84.0</td>\n",
       "    </tr>\n",
       "    <tr>\n",
       "      <th>1</th>\n",
       "      <td>2</td>\n",
       "      <td>Aryan</td>\n",
       "      <td>500</td>\n",
       "      <td>300</td>\n",
       "      <td>NaN</td>\n",
       "      <td>B</td>\n",
       "      <td>60.0</td>\n",
       "    </tr>\n",
       "    <tr>\n",
       "      <th>2</th>\n",
       "      <td>3</td>\n",
       "      <td>Dhey</td>\n",
       "      <td>500</td>\n",
       "      <td>450</td>\n",
       "      <td>NaN</td>\n",
       "      <td>A</td>\n",
       "      <td>90.0</td>\n",
       "    </tr>\n",
       "    <tr>\n",
       "      <th>3</th>\n",
       "      <td>4</td>\n",
       "      <td>Aadity</td>\n",
       "      <td>500</td>\n",
       "      <td>460</td>\n",
       "      <td>NaN</td>\n",
       "      <td>A+</td>\n",
       "      <td>92.0</td>\n",
       "    </tr>\n",
       "    <tr>\n",
       "      <th>4</th>\n",
       "      <td>5</td>\n",
       "      <td>Ritik</td>\n",
       "      <td>500</td>\n",
       "      <td>310</td>\n",
       "      <td>NaN</td>\n",
       "      <td>B</td>\n",
       "      <td>62.0</td>\n",
       "    </tr>\n",
       "  </tbody>\n",
       "</table>\n",
       "</div>"
      ],
      "text/plain": [
       "   Sr.No    Name  Total Marks  Obtained Marks  Percentage Grade  percentage\n",
       "0      1  Aayush          500             420         NaN     A        84.0\n",
       "1      2   Aryan          500             300         NaN     B        60.0\n",
       "2      3    Dhey          500             450         NaN     A        90.0\n",
       "3      4  Aadity          500             460         NaN    A+        92.0\n",
       "4      5   Ritik          500             310         NaN     B        62.0"
      ]
     },
     "execution_count": 15,
     "metadata": {},
     "output_type": "execute_result"
    }
   ],
   "source": [
    "stud['percentage']=(stud['Obtained Marks']/stud['Total Marks'])*100\n",
    "stud.head(5)"
   ]
  },
  {
   "cell_type": "code",
   "execution_count": 17,
   "id": "cf136041-076d-4036-9ce1-009c9687ffe7",
   "metadata": {},
   "outputs": [
    {
     "name": "stdout",
     "output_type": "stream",
     "text": [
      "    Sr.No    Name  Total Marks  Obtained Marks  Percentage Grade  percentage\n",
      "7       8   Lalit          500             280        0.56     C   56.000000\n",
      "8       9  Hitesh          500             230        0.46     D   46.000000\n",
      "9      10  Rakesh          500             290        0.58     C   58.000000\n",
      "10     11   jeetu          700             500        0.99   NaN   71.428571\n",
      "11     12     NaN          700             588        0.98   NaN   84.000000\n"
     ]
    }
   ],
   "source": [
    "stud['percentage']=(stud['Obtained Marks']/stud['Total Marks'])*100\n",
    "print(stud.tail(5))"
   ]
  },
  {
   "cell_type": "code",
   "execution_count": null,
   "id": "b742cab7-6a66-472c-b363-5163ba0047c1",
   "metadata": {},
   "outputs": [],
   "source": []
  }
 ],
 "metadata": {
  "kernelspec": {
   "display_name": "Python 3 (ipykernel)",
   "language": "python",
   "name": "python3"
  },
  "language_info": {
   "codemirror_mode": {
    "name": "ipython",
    "version": 3
   },
   "file_extension": ".py",
   "mimetype": "text/x-python",
   "name": "python",
   "nbconvert_exporter": "python",
   "pygments_lexer": "ipython3",
   "version": "3.11.4"
  }
 },
 "nbformat": 4,
 "nbformat_minor": 5
}
